{
 "cells": [
  {
   "cell_type": "code",
   "execution_count": 59,
   "id": "1fc8b16b",
   "metadata": {},
   "outputs": [],
   "source": [
    "#import libraries\n",
    "import numpy as np\n",
    "import pandas as pd\n",
    "import re\n",
    "import matplotlib.pyplot as plt\n",
    "import seaborn as sns\n",
    "\n",
    "import nltk\n",
    "from nltk.corpus import stopwords\n",
    "from nltk.stem.porter import PorterStemmer\n",
    "\n",
    "from sklearn.model_selection import train_test_split\n",
    "from sklearn import metrics\n",
    "\n",
    "from sklearn.linear_model import LogisticRegression\n",
    "\n",
    "import warnings\n",
    "warnings.filterwarnings('ignore')\n",
    "\n",
    "%matplotlib inline"
   ]
  },
  {
   "cell_type": "markdown",
   "id": "09a3cf36",
   "metadata": {},
   "source": [
    "- Will use the Fake News <a href='https://www.kaggle.com/c/fake-news/overview'>Kaggle competition</a> dataset for this project\n",
    "- The objective of the project is to create a classifier that is able to idetify a fake article"
   ]
  },
  {
   "cell_type": "markdown",
   "id": "ef158900",
   "metadata": {},
   "source": [
    "# Data "
   ]
  },
  {
   "cell_type": "code",
   "execution_count": 2,
   "id": "3c291ee6",
   "metadata": {},
   "outputs": [
    {
     "name": "stdout",
     "output_type": "stream",
     "text": [
      "(20800, 5)\n"
     ]
    }
   ],
   "source": [
    "dataset = pd.read_csv('fake_news.csv')\n",
    "print(dataset.shape)"
   ]
  },
  {
   "cell_type": "code",
   "execution_count": 3,
   "id": "4c193f8b",
   "metadata": {},
   "outputs": [
    {
     "data": {
      "text/html": [
       "<div>\n",
       "<style scoped>\n",
       "    .dataframe tbody tr th:only-of-type {\n",
       "        vertical-align: middle;\n",
       "    }\n",
       "\n",
       "    .dataframe tbody tr th {\n",
       "        vertical-align: top;\n",
       "    }\n",
       "\n",
       "    .dataframe thead th {\n",
       "        text-align: right;\n",
       "    }\n",
       "</style>\n",
       "<table border=\"1\" class=\"dataframe\">\n",
       "  <thead>\n",
       "    <tr style=\"text-align: right;\">\n",
       "      <th></th>\n",
       "      <th>id</th>\n",
       "      <th>title</th>\n",
       "      <th>author</th>\n",
       "      <th>text</th>\n",
       "      <th>label</th>\n",
       "    </tr>\n",
       "  </thead>\n",
       "  <tbody>\n",
       "    <tr>\n",
       "      <th>0</th>\n",
       "      <td>0</td>\n",
       "      <td>House Dem Aide: We Didn’t Even See Comey’s Let...</td>\n",
       "      <td>Darrell Lucus</td>\n",
       "      <td>House Dem Aide: We Didn’t Even See Comey’s Let...</td>\n",
       "      <td>1</td>\n",
       "    </tr>\n",
       "    <tr>\n",
       "      <th>1</th>\n",
       "      <td>1</td>\n",
       "      <td>FLYNN: Hillary Clinton, Big Woman on Campus - ...</td>\n",
       "      <td>Daniel J. Flynn</td>\n",
       "      <td>Ever get the feeling your life circles the rou...</td>\n",
       "      <td>0</td>\n",
       "    </tr>\n",
       "    <tr>\n",
       "      <th>2</th>\n",
       "      <td>2</td>\n",
       "      <td>Why the Truth Might Get You Fired</td>\n",
       "      <td>Consortiumnews.com</td>\n",
       "      <td>Why the Truth Might Get You Fired October 29, ...</td>\n",
       "      <td>1</td>\n",
       "    </tr>\n",
       "    <tr>\n",
       "      <th>3</th>\n",
       "      <td>3</td>\n",
       "      <td>15 Civilians Killed In Single US Airstrike Hav...</td>\n",
       "      <td>Jessica Purkiss</td>\n",
       "      <td>Videos 15 Civilians Killed In Single US Airstr...</td>\n",
       "      <td>1</td>\n",
       "    </tr>\n",
       "    <tr>\n",
       "      <th>4</th>\n",
       "      <td>4</td>\n",
       "      <td>Iranian woman jailed for fictional unpublished...</td>\n",
       "      <td>Howard Portnoy</td>\n",
       "      <td>Print \\nAn Iranian woman has been sentenced to...</td>\n",
       "      <td>1</td>\n",
       "    </tr>\n",
       "  </tbody>\n",
       "</table>\n",
       "</div>"
      ],
      "text/plain": [
       "   id                                              title              author  \\\n",
       "0   0  House Dem Aide: We Didn’t Even See Comey’s Let...       Darrell Lucus   \n",
       "1   1  FLYNN: Hillary Clinton, Big Woman on Campus - ...     Daniel J. Flynn   \n",
       "2   2                  Why the Truth Might Get You Fired  Consortiumnews.com   \n",
       "3   3  15 Civilians Killed In Single US Airstrike Hav...     Jessica Purkiss   \n",
       "4   4  Iranian woman jailed for fictional unpublished...      Howard Portnoy   \n",
       "\n",
       "                                                text  label  \n",
       "0  House Dem Aide: We Didn’t Even See Comey’s Let...      1  \n",
       "1  Ever get the feeling your life circles the rou...      0  \n",
       "2  Why the Truth Might Get You Fired October 29, ...      1  \n",
       "3  Videos 15 Civilians Killed In Single US Airstr...      1  \n",
       "4  Print \\nAn Iranian woman has been sentenced to...      1  "
      ]
     },
     "execution_count": 3,
     "metadata": {},
     "output_type": "execute_result"
    }
   ],
   "source": [
    "dataset.head()"
   ]
  },
  {
   "cell_type": "code",
   "execution_count": 4,
   "id": "ac32211f",
   "metadata": {},
   "outputs": [
    {
     "data": {
      "text/plain": [
       "['House Dem Aide: We Didn’t Even See Comey’s Letter Until Jason Chaffetz Tweeted It',\n",
       " 'Why the Truth Might Get You Fired',\n",
       " '15 Civilians Killed In Single US Airstrike Have Been Identified',\n",
       " 'Iranian woman jailed for fictional unpublished story about woman stoned to death for adultery',\n",
       " 'Life: Life Of Luxury: Elton John’s 6 Favorite Shark Pictures To Stare At During Long, Transcontinental Flights']"
      ]
     },
     "execution_count": 4,
     "metadata": {},
     "output_type": "execute_result"
    }
   ],
   "source": [
    "dataset[dataset['label'] ==1]['title'].to_list()[:5]"
   ]
  },
  {
   "cell_type": "code",
   "execution_count": 5,
   "id": "62a11119",
   "metadata": {},
   "outputs": [
    {
     "data": {
      "text/plain": [
       "['FLYNN: Hillary Clinton, Big Woman on Campus - Breitbart',\n",
       " 'Jackie Mason: Hollywood Would Love Trump if He Bombed North Korea over Lack of Trans Bathrooms (Exclusive Video) - Breitbart',\n",
       " 'Benoît Hamon Wins French Socialist Party’s Presidential Nomination - The New York Times',\n",
       " 'Excerpts From a Draft Script for Donald Trump’s Q&ampA With a Black Church’s Pastor - The New York Times',\n",
       " 'A Back-Channel Plan for Ukraine and Russia, Courtesy of Trump Associates - The New York Times']"
      ]
     },
     "execution_count": 5,
     "metadata": {},
     "output_type": "execute_result"
    }
   ],
   "source": [
    "dataset[dataset['label'] ==0]['title'].to_list()[:5]"
   ]
  },
  {
   "cell_type": "code",
   "execution_count": 6,
   "id": "f8600717",
   "metadata": {},
   "outputs": [
    {
     "data": {
      "text/plain": [
       "4201"
      ]
     },
     "execution_count": 6,
     "metadata": {},
     "output_type": "execute_result"
    }
   ],
   "source": [
    "dataset['author'].nunique()"
   ]
  },
  {
   "cell_type": "code",
   "execution_count": 7,
   "id": "cb55ff79",
   "metadata": {},
   "outputs": [
    {
     "data": {
      "image/png": "[encoded data removed]",
      "text/plain": [
       "<Figure size 1440x360 with 2 Axes>"
      ]
     },
     "metadata": {
      "needs_background": "light"
     },
     "output_type": "display_data"
    }
   ],
   "source": [
    "dataset['title_len'] = dataset['title'].apply(lambda x : len(str(x).split(' ')))\n",
    "dataset['text_len'] = dataset['text'].apply(lambda x : len(str(x).split(' ')))\n",
    "\n",
    "fig, axes = plt.subplots(nrows= 1, ncols= 2, figsize = (20,5))\n",
    "axes = axes.flatten()\n",
    "\n",
    "axes[0].hist(dataset['title_len'])\n",
    "axes[0].set_title('Title length distriibution')\n",
    "axes[1].hist(dataset['text_len'])\n",
    "axes[1].set_title('Text length distriibution')\n",
    "plt.show()"
   ]
  },
  {
   "cell_type": "code",
   "execution_count": 8,
   "id": "25369115",
   "metadata": {},
   "outputs": [
    {
     "data": {
      "text/plain": [
       "count    20800.000000\n",
       "mean        12.126298\n",
       "std          4.443486\n",
       "min          1.000000\n",
       "25%          9.000000\n",
       "50%         12.000000\n",
       "75%         15.000000\n",
       "max         72.000000\n",
       "Name: title_len, dtype: float64"
      ]
     },
     "execution_count": 8,
     "metadata": {},
     "output_type": "execute_result"
    }
   ],
   "source": [
    "dataset['title_len'].describe()"
   ]
  },
  {
   "cell_type": "code",
   "execution_count": 9,
   "id": "e7056dc6",
   "metadata": {},
   "outputs": [
    {
     "data": {
      "text/plain": [
       "count    20800.000000\n",
       "mean       773.202163\n",
       "std        881.468450\n",
       "min          1.000000\n",
       "25%        273.000000\n",
       "50%        565.000000\n",
       "75%       1070.000000\n",
       "max      24234.000000\n",
       "Name: text_len, dtype: float64"
      ]
     },
     "execution_count": 9,
     "metadata": {},
     "output_type": "execute_result"
    }
   ],
   "source": [
    "dataset['text_len'].describe()"
   ]
  },
  {
   "cell_type": "markdown",
   "id": "c2c80b57",
   "metadata": {},
   "source": [
    "- We have Title, Author & content of the article \n",
    "- In this project, we will be using ngram approach to predict whether it is fake news or not\n",
    "- We will be using only the Title of the article"
   ]
  },
  {
   "cell_type": "code",
   "execution_count": 10,
   "id": "29a4bb15",
   "metadata": {},
   "outputs": [
    {
     "data": {
      "text/plain": [
       "1    10413\n",
       "0    10387\n",
       "Name: label, dtype: int64"
      ]
     },
     "execution_count": 10,
     "metadata": {},
     "output_type": "execute_result"
    }
   ],
   "source": [
    "news_dataset = dataset[['title', 'label']]\n",
    "news_dataset['label'].value_counts()"
   ]
  },
  {
   "cell_type": "code",
   "execution_count": 30,
   "id": "6a4fbe08",
   "metadata": {},
   "outputs": [
    {
     "name": "stderr",
     "output_type": "stream",
     "text": [
      "<ipython-input-30-73f540b88159>:1: SettingWithCopyWarning: \n",
      "A value is trying to be set on a copy of a slice from a DataFrame\n",
      "\n",
      "See the caveats in the documentation: https://pandas.pydata.org/pandas-docs/stable/user_guide/indexing.html#returning-a-view-versus-a-copy\n",
      "  news_dataset.dropna(inplace= True)\n"
     ]
    }
   ],
   "source": [
    "news_dataset.dropna(inplace= True)"
   ]
  },
  {
   "cell_type": "markdown",
   "id": "2da834a3",
   "metadata": {},
   "source": [
    "# Data Preprocessing Pipeline"
   ]
  },
  {
   "cell_type": "code",
   "execution_count": 37,
   "id": "694c4ee7",
   "metadata": {},
   "outputs": [],
   "source": [
    "#remove punctuation\n",
    "import string\n",
    "def remove_punctuation_func(text):\n",
    "    '''\n",
    "    Remove punctuations from the text\n",
    "    '''\n",
    "#     print(text)\n",
    "    text= \"\".join([i for i in text if str(i) not in string.punctuation])\n",
    "    return text\n",
    "\n",
    "#tokenize text\n",
    "import re\n",
    "def tokenization(text):\n",
    "    return text.split(' ')\n",
    "\n",
    "#remove stopwords from tokenized text\n",
    "stopwords = nltk.corpus.stopwords.words('english')\n",
    "def remove_stopwords_func(tokens):\n",
    "    output= [i for i in tokens if str(i) not in stopwords]\n",
    "    return output\n",
    "\n",
    "#lemmatization\n",
    "from nltk.stem import WordNetLemmatizer\n",
    "wordnet_lemmatizer = WordNetLemmatizer()\n",
    "def lemmatizer_func(text):\n",
    "    lemm_text = [wordnet_lemmatizer.lemmatize(word) for word in text]\n",
    "    return lemm_text\n"
   ]
  },
  {
   "cell_type": "code",
   "execution_count": 44,
   "id": "17bae292",
   "metadata": {},
   "outputs": [],
   "source": [
    "text_preprocess_json = {\n",
    "    'remove_punctuation' : True,\n",
    "    'remove_stopwords' : True,\n",
    "    'lemmatizer' : True\n",
    "    \n",
    "}"
   ]
  },
  {
   "cell_type": "code",
   "execution_count": 45,
   "id": "d3e245a8",
   "metadata": {},
   "outputs": [],
   "source": [
    "def text_preprocess_pipeline(df, col, **config) :\n",
    "    \n",
    "    '''\n",
    "    text preprocess pipeline\n",
    "    \n",
    "    '''\n",
    "    df['cleaned_text'] = df[col]\n",
    "    \n",
    "    if remove_punctuation :\n",
    "        df['cleaned_text'] = df['cleaned_text'].apply(lambda x : remove_punctuation_func(x))\n",
    "        \n",
    "    if remove_stopwords :\n",
    "        df['cleaned_text'] = df['cleaned_text'].apply(lambda x : tokenization(x))\n",
    "        df['cleaned_text'] = df['cleaned_text'].apply(lambda x : remove_stopwords_func(x))\n",
    "        \n",
    "    if lemmatizer :\n",
    "        df['cleaned_text'] = df['cleaned_text'].apply(lambda x : lemmatizer_func(x))\n",
    "        \n",
    "        \n",
    "    return df\n",
    "    "
   ]
  },
  {
   "cell_type": "code",
   "execution_count": 47,
   "id": "a91eed54",
   "metadata": {},
   "outputs": [
    {
     "data": {
      "text/html": [
       "<div>\n",
       "<style scoped>\n",
       "    .dataframe tbody tr th:only-of-type {\n",
       "        vertical-align: middle;\n",
       "    }\n",
       "\n",
       "    .dataframe tbody tr th {\n",
       "        vertical-align: top;\n",
       "    }\n",
       "\n",
       "    .dataframe thead th {\n",
       "        text-align: right;\n",
       "    }\n",
       "</style>\n",
       "<table border=\"1\" class=\"dataframe\">\n",
       "  <thead>\n",
       "    <tr style=\"text-align: right;\">\n",
       "      <th></th>\n",
       "      <th>title</th>\n",
       "      <th>label</th>\n",
       "      <th>cleaned_text</th>\n",
       "    </tr>\n",
       "  </thead>\n",
       "  <tbody>\n",
       "    <tr>\n",
       "      <th>0</th>\n",
       "      <td>House Dem Aide: We Didn’t Even See Comey’s Let...</td>\n",
       "      <td>1</td>\n",
       "      <td>House Dem Aide We Didn’t Even See Comey’s Lett...</td>\n",
       "    </tr>\n",
       "    <tr>\n",
       "      <th>1</th>\n",
       "      <td>FLYNN: Hillary Clinton, Big Woman on Campus - ...</td>\n",
       "      <td>0</td>\n",
       "      <td>FLYNN Hillary Clinton Big Woman Campus  Breitbart</td>\n",
       "    </tr>\n",
       "    <tr>\n",
       "      <th>2</th>\n",
       "      <td>Why the Truth Might Get You Fired</td>\n",
       "      <td>1</td>\n",
       "      <td>Why Truth Might Get You Fired</td>\n",
       "    </tr>\n",
       "    <tr>\n",
       "      <th>3</th>\n",
       "      <td>15 Civilians Killed In Single US Airstrike Hav...</td>\n",
       "      <td>1</td>\n",
       "      <td>15 Civilians Killed In Single US Airstrike Hav...</td>\n",
       "    </tr>\n",
       "    <tr>\n",
       "      <th>4</th>\n",
       "      <td>Iranian woman jailed for fictional unpublished...</td>\n",
       "      <td>1</td>\n",
       "      <td>Iranian woman jailed fictional unpublished sto...</td>\n",
       "    </tr>\n",
       "  </tbody>\n",
       "</table>\n",
       "</div>"
      ],
      "text/plain": [
       "                                               title  label  \\\n",
       "0  House Dem Aide: We Didn’t Even See Comey’s Let...      1   \n",
       "1  FLYNN: Hillary Clinton, Big Woman on Campus - ...      0   \n",
       "2                  Why the Truth Might Get You Fired      1   \n",
       "3  15 Civilians Killed In Single US Airstrike Hav...      1   \n",
       "4  Iranian woman jailed for fictional unpublished...      1   \n",
       "\n",
       "                                        cleaned_text  \n",
       "0  House Dem Aide We Didn’t Even See Comey’s Lett...  \n",
       "1  FLYNN Hillary Clinton Big Woman Campus  Breitbart  \n",
       "2                      Why Truth Might Get You Fired  \n",
       "3  15 Civilians Killed In Single US Airstrike Hav...  \n",
       "4  Iranian woman jailed fictional unpublished sto...  "
      ]
     },
     "execution_count": 47,
     "metadata": {},
     "output_type": "execute_result"
    }
   ],
   "source": [
    "news_dataset = text_preprocess_pipeline(news_dataset, col = 'title', **text_preprocess_json)\n",
    "news_dataset['cleaned_text'] = news_dataset['cleaned_text'].apply(lambda x : ' '.join(x))\n",
    "news_dataset.head()"
   ]
  },
  {
   "cell_type": "markdown",
   "id": "8724d393",
   "metadata": {},
   "source": [
    "# Feature Extraction & Modeling"
   ]
  },
  {
   "cell_type": "code",
   "execution_count": 54,
   "id": "2e1c089b",
   "metadata": {},
   "outputs": [],
   "source": [
    "#separating the data and label\n",
    "X = news_dataset['cleaned_text'].values\n",
    "y = news_dataset['label'].values"
   ]
  },
  {
   "cell_type": "code",
   "execution_count": 55,
   "id": "7ea731ee",
   "metadata": {},
   "outputs": [
    {
     "name": "stdout",
     "output_type": "stream",
     "text": [
      "(20242, 24063)\n"
     ]
    }
   ],
   "source": [
    "#using TFIDF\n",
    "from sklearn.feature_extraction.text import TfidfVectorizer\n",
    "\n",
    "vectorizer = TfidfVectorizer()\n",
    "vectorizer.fit(X)\n",
    "\n",
    "X = vectorizer.transform(X)\n",
    "print(X.shape)"
   ]
  },
  {
   "cell_type": "code",
   "execution_count": 56,
   "id": "cdec1913",
   "metadata": {},
   "outputs": [
    {
     "name": "stdout",
     "output_type": "stream",
     "text": [
      "(16193, 24063) (4049, 24063)\n"
     ]
    }
   ],
   "source": [
    "#train & test split\n",
    "X_train, X_test, y_train, y_test = train_test_split(X, y, test_size = 0.2, stratify=y, random_state=2)\n",
    "print(X_train.shape, X_test.shape)"
   ]
  },
  {
   "cell_type": "code",
   "execution_count": 61,
   "id": "1ac61858",
   "metadata": {},
   "outputs": [
    {
     "data": {
      "text/plain": [
       "LogisticRegression()"
      ]
     },
     "execution_count": 61,
     "metadata": {},
     "output_type": "execute_result"
    }
   ],
   "source": [
    "#train model\n",
    "model = LogisticRegression()\n",
    "model.fit(X_train, y_train)"
   ]
  },
  {
   "cell_type": "markdown",
   "id": "3329f2ce",
   "metadata": {},
   "source": [
    "# Evaluation "
   ]
  },
  {
   "cell_type": "code",
   "execution_count": 63,
   "id": "9a0ece10",
   "metadata": {},
   "outputs": [
    {
     "name": "stdout",
     "output_type": "stream",
     "text": [
      "Accuracy score of the training data :  0.9441734082628296\n"
     ]
    }
   ],
   "source": [
    "# accuracy score on the training data\n",
    "X_train_prediction = model.predict(X_train)\n",
    "training_data_accuracy = metrics.accuracy_score(X_train_prediction, y_train)\n",
    "\n",
    "print('Accuracy score of the training data : ', training_data_accuracy)"
   ]
  },
  {
   "cell_type": "code",
   "execution_count": 66,
   "id": "8299d98a",
   "metadata": {},
   "outputs": [
    {
     "name": "stdout",
     "output_type": "stream",
     "text": [
      "Accuracy score of the test data :  0.9264015806371944\n"
     ]
    }
   ],
   "source": [
    "# accuracy score on the test data\n",
    "X_test_prediction = model.predict(X_test)\n",
    "test_data_accuracy = metrics.accuracy_score(X_test_prediction, y_test)\n",
    "\n",
    "print('Accuracy score of the test data : ', test_data_accuracy)"
   ]
  },
  {
   "cell_type": "code",
   "execution_count": 68,
   "id": "6d8a3483",
   "metadata": {},
   "outputs": [],
   "source": [
    "#save the model\n",
    "import pickle \n",
    "pickle.dump(model, open('fake_news_detector.pkl', 'wb'))"
   ]
  },
  {
   "cell_type": "code",
   "execution_count": 70,
   "id": "41ab85df",
   "metadata": {},
   "outputs": [],
   "source": [
    "#save the tfidf transformer\n",
    "pickle.dump(vectorizer, open('fake_news_vectorizer.pkl', 'wb'))"
   ]
  },
  {
   "cell_type": "markdown",
   "id": "abc91619",
   "metadata": {},
   "source": [
    "# Making a Prediction "
   ]
  },
  {
   "cell_type": "code",
   "execution_count": 86,
   "id": "9c2cec9b",
   "metadata": {},
   "outputs": [],
   "source": [
    "#load model\n",
    "trained_model = pickle.load(open('fake_news_detector.pkl', 'rb'))\n",
    "\n",
    "#load vectorizer\n",
    "trained_vectorizer = pickle.load(open('fake_news_vectorizer.pkl', 'rb'))\n",
    "\n",
    "def fake_news_prediction(sentence) :\n",
    "    \n",
    "    vector = trained_vectorizer.transform(sentence)\n",
    "    prediction = trained_model.predict(vector)\n",
    "    \n",
    "    if (prediction[0]=='1'):\n",
    "        print('Alert! This is a FAKE NEWS!')\n",
    "    else:\n",
    "        print('This might not be fake news')\n",
    "    "
   ]
  },
  {
   "cell_type": "code",
   "execution_count": 87,
   "id": "64adb8dc",
   "metadata": {},
   "outputs": [
    {
     "name": "stdout",
     "output_type": "stream",
     "text": [
      "This might not be fake news\n"
     ]
    }
   ],
   "source": [
    "fake_news_prediction(['They are giving 100 new free cars'])"
   ]
  },
  {
   "cell_type": "code",
   "execution_count": null,
   "id": "ecd06d42",
   "metadata": {},
   "outputs": [],
   "source": []
  }
 ],
 "metadata": {
  "kernelspec": {
   "display_name": "Python 3",
   "language": "python",
   "name": "python3"
  },
  "language_info": {
   "codemirror_mode": {
    "name": "ipython",
    "version": 3
   },
   "file_extension": ".py",
   "mimetype": "text/x-python",
   "name": "python",
   "nbconvert_exporter": "python",
   "pygments_lexer": "ipython3",
   "version": "3.9.5"
  },
  "toc": {
   "base_numbering": 1,
   "nav_menu": {},
   "number_sections": true,
   "sideBar": true,
   "skip_h1_title": false,
   "title_cell": "Table of Contents",
   "title_sidebar": "Contents",
   "toc_cell": false,
   "toc_position": {},
   "toc_section_display": true,
   "toc_window_display": false
  }
 },
 "nbformat": 4,
 "nbformat_minor": 5
}
