{
 "cells": [
  {
   "cell_type": "code",
   "execution_count": 1,
   "id": "8680afb6",
   "metadata": {},
   "outputs": [],
   "source": [
    "#import libraries\n",
    "import torch\n",
    "import torch.nn as nn\n",
    "\n",
    "import numpy as np\n",
    "import pandas as pd\n",
    "import matplotlib.pyplot as plt\n",
    "%matplotlib inline"
   ]
  },
  {
   "cell_type": "markdown",
   "id": "1d3184dd",
   "metadata": {},
   "source": [
    " **INTRODUCTION**\n",
    " - Will be using NYC Taxi Fare <a href='https://www.kaggle.com/c/new-york-city-taxi-fare-prediction'>Kaggle competition</a> dataset with about 55 million records. \n",
    " - The data contains the pickup date & time, the latitude & longitude (GPS coordinates) of the pickup and dropoff locations, and the number of passengers\n",
    " - We will be predicting the **fare amount** of the trip\n",
    "\n",
    " To run the notebook on local system, the dataset is trimmed down to 120,000 records from April 11 to April 24, 2010. The records are randomly sorted."
   ]
  },
  {
   "cell_type": "markdown",
   "id": "2e77636b",
   "metadata": {},
   "source": [
    "# Data "
   ]
  },
  {
   "cell_type": "code",
   "execution_count": 4,
   "id": "f7ac5cd9",
   "metadata": {},
   "outputs": [
    {
     "name": "stdout",
     "output_type": "stream",
     "text": [
      "(120000, 8)\n"
     ]
    }
   ],
   "source": [
    "data = pd.read_csv('traindata/NYCTaxiFares.csv')\n",
    "print(data.shape)"
   ]
  },
  {
   "cell_type": "code",
   "execution_count": 5,
   "id": "4cdf5883",
   "metadata": {},
   "outputs": [
    {
     "data": {
      "text/html": [
       "<div>\n",
       "<style scoped>\n",
       "    .dataframe tbody tr th:only-of-type {\n",
       "        vertical-align: middle;\n",
       "    }\n",
       "\n",
       "    .dataframe tbody tr th {\n",
       "        vertical-align: top;\n",
       "    }\n",
       "\n",
       "    .dataframe thead th {\n",
       "        text-align: right;\n",
       "    }\n",
       "</style>\n",
       "<table border=\"1\" class=\"dataframe\">\n",
       "  <thead>\n",
       "    <tr style=\"text-align: right;\">\n",
       "      <th></th>\n",
       "      <th>pickup_datetime</th>\n",
       "      <th>fare_amount</th>\n",
       "      <th>fare_class</th>\n",
       "      <th>pickup_longitude</th>\n",
       "      <th>pickup_latitude</th>\n",
       "      <th>dropoff_longitude</th>\n",
       "      <th>dropoff_latitude</th>\n",
       "      <th>passenger_count</th>\n",
       "    </tr>\n",
       "  </thead>\n",
       "  <tbody>\n",
       "    <tr>\n",
       "      <th>0</th>\n",
       "      <td>2010-04-19 08:17:56 UTC</td>\n",
       "      <td>6.5</td>\n",
       "      <td>0</td>\n",
       "      <td>-73.992365</td>\n",
       "      <td>40.730521</td>\n",
       "      <td>-73.975499</td>\n",
       "      <td>40.744746</td>\n",
       "      <td>1</td>\n",
       "    </tr>\n",
       "    <tr>\n",
       "      <th>1</th>\n",
       "      <td>2010-04-17 15:43:53 UTC</td>\n",
       "      <td>6.9</td>\n",
       "      <td>0</td>\n",
       "      <td>-73.990078</td>\n",
       "      <td>40.740558</td>\n",
       "      <td>-73.974232</td>\n",
       "      <td>40.744114</td>\n",
       "      <td>1</td>\n",
       "    </tr>\n",
       "    <tr>\n",
       "      <th>2</th>\n",
       "      <td>2010-04-17 11:23:26 UTC</td>\n",
       "      <td>10.1</td>\n",
       "      <td>1</td>\n",
       "      <td>-73.994149</td>\n",
       "      <td>40.751118</td>\n",
       "      <td>-73.960064</td>\n",
       "      <td>40.766235</td>\n",
       "      <td>2</td>\n",
       "    </tr>\n",
       "    <tr>\n",
       "      <th>3</th>\n",
       "      <td>2010-04-11 21:25:03 UTC</td>\n",
       "      <td>8.9</td>\n",
       "      <td>0</td>\n",
       "      <td>-73.990485</td>\n",
       "      <td>40.756422</td>\n",
       "      <td>-73.971205</td>\n",
       "      <td>40.748192</td>\n",
       "      <td>1</td>\n",
       "    </tr>\n",
       "    <tr>\n",
       "      <th>4</th>\n",
       "      <td>2010-04-17 02:19:01 UTC</td>\n",
       "      <td>19.7</td>\n",
       "      <td>1</td>\n",
       "      <td>-73.990976</td>\n",
       "      <td>40.734202</td>\n",
       "      <td>-73.905956</td>\n",
       "      <td>40.743115</td>\n",
       "      <td>1</td>\n",
       "    </tr>\n",
       "  </tbody>\n",
       "</table>\n",
       "</div>"
      ],
      "text/plain": [
       "           pickup_datetime  fare_amount  fare_class  pickup_longitude  \\\n",
       "0  2010-04-19 08:17:56 UTC          6.5           0        -73.992365   \n",
       "1  2010-04-17 15:43:53 UTC          6.9           0        -73.990078   \n",
       "2  2010-04-17 11:23:26 UTC         10.1           1        -73.994149   \n",
       "3  2010-04-11 21:25:03 UTC          8.9           0        -73.990485   \n",
       "4  2010-04-17 02:19:01 UTC         19.7           1        -73.990976   \n",
       "\n",
       "   pickup_latitude  dropoff_longitude  dropoff_latitude  passenger_count  \n",
       "0        40.730521         -73.975499         40.744746                1  \n",
       "1        40.740558         -73.974232         40.744114                1  \n",
       "2        40.751118         -73.960064         40.766235                2  \n",
       "3        40.756422         -73.971205         40.748192                1  \n",
       "4        40.734202         -73.905956         40.743115                1  "
      ]
     },
     "execution_count": 5,
     "metadata": {},
     "output_type": "execute_result"
    }
   ],
   "source": [
    "data.head()"
   ]
  },
  {
   "cell_type": "code",
   "execution_count": 6,
   "id": "ebb0190e",
   "metadata": {},
   "outputs": [
    {
     "data": {
      "text/plain": [
       "count    120000.000000\n",
       "mean         10.040326\n",
       "std           7.500134\n",
       "min           2.500000\n",
       "25%           5.700000\n",
       "50%           7.700000\n",
       "75%          11.300000\n",
       "max          49.900000\n",
       "Name: fare_amount, dtype: float64"
      ]
     },
     "execution_count": 6,
     "metadata": {},
     "output_type": "execute_result"
    }
   ],
   "source": [
    "#will drop the fare class column\n",
    "data.drop('fare_class', axis=1, inplace= True)\n",
    "data['fare_amount'].describe()"
   ]
  },
  {
   "cell_type": "code",
   "execution_count": 7,
   "id": "0c756bfe",
   "metadata": {},
   "outputs": [
    {
     "data": {
      "text/plain": [
       "pickup_datetime      0.0\n",
       "fare_amount          0.0\n",
       "pickup_longitude     0.0\n",
       "pickup_latitude      0.0\n",
       "dropoff_longitude    0.0\n",
       "dropoff_latitude     0.0\n",
       "passenger_count      0.0\n",
       "dtype: float64"
      ]
     },
     "execution_count": 7,
     "metadata": {},
     "output_type": "execute_result"
    }
   ],
   "source": [
    "#check na values -- no na values\n",
    "data.isna().sum().sort_values(ascending = False) / data.shape[0]"
   ]
  },
  {
   "cell_type": "code",
   "execution_count": null,
   "id": "3db263a3",
   "metadata": {},
   "outputs": [],
   "source": []
  },
  {
   "cell_type": "markdown",
   "id": "99af056b",
   "metadata": {},
   "source": [
    "# Feature Engineering "
   ]
  },
  {
   "cell_type": "code",
   "execution_count": 8,
   "id": "34f913b4",
   "metadata": {},
   "outputs": [],
   "source": [
    "'''\n",
    "The data provides trips pickup & dropoff location.\n",
    "This latitude & longitude information cannot be directly used \n",
    "while modeling. Thus we will calculate the distance of the trip \n",
    "using haversine distance & manhattan distance.\n",
    "Further we will also calcualte bearing array to calculate the direction\n",
    "of travel\n",
    "'''\n",
    "\n",
    "def haversine_distance(lat1, long1, lat2, long2):\n",
    "    \"\"\"\n",
    "    Calculates the haversine distance between 2 sets of GPS coordinates in df\n",
    "    \"\"\"\n",
    "    r = 6371  # average radius of Earth in kilometers\n",
    "       \n",
    "    phi1 = np.radians(lat1)\n",
    "    phi2 = np.radians(lat2)\n",
    "    \n",
    "    delta_phi = np.radians(lat2-lat1)\n",
    "    delta_lambda = np.radians(long2-long1)\n",
    "     \n",
    "    a = np.sin(delta_phi/2)**2 + np.cos(phi1) * np.cos(phi2) * np.sin(delta_lambda/2)**2\n",
    "    c = 2 * np.arctan2(np.sqrt(a), np.sqrt(1-a))\n",
    "    d = (r * c) # in kilometers\n",
    "\n",
    "    return d\n",
    "\n",
    "def dummy_manhattan_distance(lat1, lng1, lat2, lng2):\n",
    "    '''\n",
    "    Calcualte dummy manhattan using the calcualted\n",
    "    haversine distance\n",
    "    '''\n",
    "    a = haversine_distance(lat1, lng1, lat1, lng2)\n",
    "    b = haversine_distance(lat1, lng1, lat2, lng1)\n",
    "    return a + b\n",
    "\n",
    "\n",
    "def bearing_array(lat1, lng1, lat2, lng2):\n",
    "    '''\n",
    "    Calculate the direction using the lat & long data\n",
    "    '''\n",
    "    AVG_EARTH_RADIUS = 6371  # in km\n",
    "    lng_delta_rad = np.radians(lng2 - lng1)\n",
    "    lat1, lng1, lat2, lng2 = map(np.radians, (lat1, lng1, lat2, lng2))\n",
    "    y = np.sin(lng_delta_rad) * np.cos(lat2)\n",
    "    x = np.cos(lat1) * np.sin(lat2) - np.sin(lat1) * np.cos(lat2) * np.cos(lng_delta_rad)\n",
    "    return np.degrees(np.arctan2(y, x))\n"
   ]
  },
  {
   "cell_type": "code",
   "execution_count": 9,
   "id": "103002a2",
   "metadata": {},
   "outputs": [],
   "source": [
    "#haversine data\n",
    "data['dist_haversine'] = haversine_distance(data['pickup_latitude'].values, \n",
    "                                             data['pickup_longitude'].values, data['dropoff_latitude'].values, \n",
    "                                             data['dropoff_longitude'].values)\n",
    "\n",
    "#manhattan data\n",
    "data['dist_dummy_manhattan'] = dummy_manhattan_distance(data['pickup_latitude'].values, \n",
    "                                                         data['pickup_longitude'].values, \n",
    "                                                         data['dropoff_latitude'].values, \n",
    "                                                         data['dropoff_longitude'].values)\n",
    "\n",
    "#direction of travel\n",
    "data['direction'] = bearing_array(data['pickup_latitude'].values, data['pickup_longitude'].values, \n",
    "                                   data['dropoff_latitude'].values, data['dropoff_longitude'].values)"
   ]
  },
  {
   "cell_type": "code",
   "execution_count": 10,
   "id": "c895d630",
   "metadata": {},
   "outputs": [
    {
     "data": {
      "text/html": [
       "<div>\n",
       "<style scoped>\n",
       "    .dataframe tbody tr th:only-of-type {\n",
       "        vertical-align: middle;\n",
       "    }\n",
       "\n",
       "    .dataframe tbody tr th {\n",
       "        vertical-align: top;\n",
       "    }\n",
       "\n",
       "    .dataframe thead th {\n",
       "        text-align: right;\n",
       "    }\n",
       "</style>\n",
       "<table border=\"1\" class=\"dataframe\">\n",
       "  <thead>\n",
       "    <tr style=\"text-align: right;\">\n",
       "      <th></th>\n",
       "      <th>pickup_datetime</th>\n",
       "      <th>fare_amount</th>\n",
       "      <th>pickup_longitude</th>\n",
       "      <th>pickup_latitude</th>\n",
       "      <th>dropoff_longitude</th>\n",
       "      <th>dropoff_latitude</th>\n",
       "      <th>passenger_count</th>\n",
       "      <th>dist_haversine</th>\n",
       "      <th>dist_dummy_manhattan</th>\n",
       "      <th>direction</th>\n",
       "      <th>Daylight_datetime</th>\n",
       "      <th>Hour</th>\n",
       "      <th>AMorPM</th>\n",
       "      <th>Weekday</th>\n",
       "    </tr>\n",
       "  </thead>\n",
       "  <tbody>\n",
       "    <tr>\n",
       "      <th>0</th>\n",
       "      <td>2010-04-19 08:17:56 UTC</td>\n",
       "      <td>6.5</td>\n",
       "      <td>-73.992365</td>\n",
       "      <td>40.730521</td>\n",
       "      <td>-73.975499</td>\n",
       "      <td>40.744746</td>\n",
       "      <td>1</td>\n",
       "      <td>2.126312</td>\n",
       "      <td>3.002912</td>\n",
       "      <td>41.930412</td>\n",
       "      <td>2010-04-19 04:17:56</td>\n",
       "      <td>4</td>\n",
       "      <td>am</td>\n",
       "      <td>Mon</td>\n",
       "    </tr>\n",
       "    <tr>\n",
       "      <th>1</th>\n",
       "      <td>2010-04-17 15:43:53 UTC</td>\n",
       "      <td>6.9</td>\n",
       "      <td>-73.990078</td>\n",
       "      <td>40.740558</td>\n",
       "      <td>-73.974232</td>\n",
       "      <td>40.744114</td>\n",
       "      <td>1</td>\n",
       "      <td>1.392307</td>\n",
       "      <td>1.730424</td>\n",
       "      <td>73.496003</td>\n",
       "      <td>2010-04-17 11:43:53</td>\n",
       "      <td>11</td>\n",
       "      <td>am</td>\n",
       "      <td>Sat</td>\n",
       "    </tr>\n",
       "    <tr>\n",
       "      <th>2</th>\n",
       "      <td>2010-04-17 11:23:26 UTC</td>\n",
       "      <td>10.1</td>\n",
       "      <td>-73.994149</td>\n",
       "      <td>40.751118</td>\n",
       "      <td>-73.960064</td>\n",
       "      <td>40.766235</td>\n",
       "      <td>2</td>\n",
       "      <td>3.326763</td>\n",
       "      <td>4.552117</td>\n",
       "      <td>59.639199</td>\n",
       "      <td>2010-04-17 07:23:26</td>\n",
       "      <td>7</td>\n",
       "      <td>am</td>\n",
       "      <td>Sat</td>\n",
       "    </tr>\n",
       "    <tr>\n",
       "      <th>3</th>\n",
       "      <td>2010-04-11 21:25:03 UTC</td>\n",
       "      <td>8.9</td>\n",
       "      <td>-73.990485</td>\n",
       "      <td>40.756422</td>\n",
       "      <td>-73.971205</td>\n",
       "      <td>40.748192</td>\n",
       "      <td>1</td>\n",
       "      <td>1.864129</td>\n",
       "      <td>2.539074</td>\n",
       "      <td>119.394631</td>\n",
       "      <td>2010-04-11 17:25:03</td>\n",
       "      <td>17</td>\n",
       "      <td>pm</td>\n",
       "      <td>Sun</td>\n",
       "    </tr>\n",
       "    <tr>\n",
       "      <th>4</th>\n",
       "      <td>2010-04-17 02:19:01 UTC</td>\n",
       "      <td>19.7</td>\n",
       "      <td>-73.990976</td>\n",
       "      <td>40.734202</td>\n",
       "      <td>-73.905956</td>\n",
       "      <td>40.743115</td>\n",
       "      <td>1</td>\n",
       "      <td>7.231321</td>\n",
       "      <td>8.154644</td>\n",
       "      <td>82.094858</td>\n",
       "      <td>2010-04-16 22:19:01</td>\n",
       "      <td>22</td>\n",
       "      <td>pm</td>\n",
       "      <td>Fri</td>\n",
       "    </tr>\n",
       "  </tbody>\n",
       "</table>\n",
       "</div>"
      ],
      "text/plain": [
       "           pickup_datetime  fare_amount  pickup_longitude  pickup_latitude  \\\n",
       "0  2010-04-19 08:17:56 UTC          6.5        -73.992365        40.730521   \n",
       "1  2010-04-17 15:43:53 UTC          6.9        -73.990078        40.740558   \n",
       "2  2010-04-17 11:23:26 UTC         10.1        -73.994149        40.751118   \n",
       "3  2010-04-11 21:25:03 UTC          8.9        -73.990485        40.756422   \n",
       "4  2010-04-17 02:19:01 UTC         19.7        -73.990976        40.734202   \n",
       "\n",
       "   dropoff_longitude  dropoff_latitude  passenger_count  dist_haversine  \\\n",
       "0         -73.975499         40.744746                1        2.126312   \n",
       "1         -73.974232         40.744114                1        1.392307   \n",
       "2         -73.960064         40.766235                2        3.326763   \n",
       "3         -73.971205         40.748192                1        1.864129   \n",
       "4         -73.905956         40.743115                1        7.231321   \n",
       "\n",
       "   dist_dummy_manhattan   direction   Daylight_datetime  Hour AMorPM Weekday  \n",
       "0              3.002912   41.930412 2010-04-19 04:17:56     4     am     Mon  \n",
       "1              1.730424   73.496003 2010-04-17 11:43:53    11     am     Sat  \n",
       "2              4.552117   59.639199 2010-04-17 07:23:26     7     am     Sat  \n",
       "3              2.539074  119.394631 2010-04-11 17:25:03    17     pm     Sun  \n",
       "4              8.154644   82.094858 2010-04-16 22:19:01    22     pm     Fri  "
      ]
     },
     "execution_count": 10,
     "metadata": {},
     "output_type": "execute_result"
    }
   ],
   "source": [
    "#adding time features\n",
    "\n",
    "data['Daylight_datetime'] = pd.to_datetime(data['pickup_datetime'].str[:19]) - pd.Timedelta(hours=4) #due to daylight savings \n",
    "data['Hour'] = data['Daylight_datetime'].dt.hour  #time of pickup\n",
    "data['AMorPM'] = np.where(data['Hour']<12,'am','pm')\n",
    "data['Weekday'] = data['Daylight_datetime'].dt.strftime(\"%a\")\n",
    "data.head()"
   ]
  },
  {
   "cell_type": "code",
   "execution_count": 11,
   "id": "20c1028e",
   "metadata": {},
   "outputs": [],
   "source": [
    "#creating clusters of regions based on lats & long data\n",
    "from sklearn.cluster import MiniBatchKMeans\n",
    "\n",
    "coords = np.vstack((data[['pickup_latitude', 'pickup_longitude']].values,\n",
    "                    data[['dropoff_latitude', 'dropoff_longitude']].values))\n",
    "\n",
    "#select number of clusters which minimizes the inertia\n",
    "distortion = []\n",
    "for k in range(10,100, 10) :\n",
    "    \n",
    "    k_means = MiniBatchKMeans(n_clusters= k, batch_size=10000)\n",
    "    k_means.fit(coords)\n",
    "    distortion.append(k_means.inertia_)\n",
    "    "
   ]
  },
  {
   "cell_type": "code",
   "execution_count": 12,
   "id": "a64da3ac",
   "metadata": {},
   "outputs": [
    {
     "data": {
      "image/png": "[encoded data removed]",
      "text/plain": [
       "<Figure size 720x360 with 1 Axes>"
      ]
     },
     "metadata": {
      "needs_background": "light"
     },
     "output_type": "display_data"
    }
   ],
   "source": [
    "#elbow plot\n",
    "plt.figure(figsize = (10,5))\n",
    "plt.plot(range(10,100,10), distortion)\n",
    "plt.show()"
   ]
  },
  {
   "cell_type": "code",
   "execution_count": 13,
   "id": "0d257f62",
   "metadata": {},
   "outputs": [],
   "source": [
    "#using 20 clusters\n",
    "k_means = MiniBatchKMeans(n_clusters= 30, batch_size=10000)\n",
    "k_means.fit(coords)\n",
    "\n",
    "data['pickup_cluster'] = k_means.predict(data[['pickup_latitude', 'pickup_longitude']])\n",
    "data['dropoff_cluster'] = k_means.predict(data[['dropoff_latitude', 'dropoff_longitude']])"
   ]
  },
  {
   "cell_type": "code",
   "execution_count": 14,
   "id": "8d500991",
   "metadata": {},
   "outputs": [],
   "source": [
    "#separating categorical & numeric features\n",
    "categorical_cols = ['Hour', 'AMorPM', 'Weekday', 'pickup_cluster', 'dropoff_cluster']\n",
    "numerical_cols = ['passenger_count', 'dist_haversine', 'dist_dummy_manhattan', 'direction']\n",
    "y_col = ['fare_amount']"
   ]
  },
  {
   "cell_type": "code",
   "execution_count": 15,
   "id": "c1a7102d",
   "metadata": {},
   "outputs": [
    {
     "data": {
      "text/plain": [
       "[(24, 12), (2, 1), (7, 4), (30, 15), (30, 15)]"
      ]
     },
     "execution_count": 15,
     "metadata": {},
     "output_type": "execute_result"
    }
   ],
   "source": [
    "#setting categorical cols\n",
    "for col in categorical_cols :\n",
    "    data[col] = data[col].astype('category')\n",
    "    \n",
    "#stacking categorical data\n",
    "categorical_data = np.stack([data[col].cat.codes.values for col in categorical_cols], axis=1)\n",
    "categorical_data = torch.tensor(categorical_data, dtype = torch.int64)\n",
    "\n",
    "#creating categorical sizes & embedding size\n",
    "cat_sizes = [len(data[col].cat.categories) for col in categorical_cols]\n",
    "embedding_sizes = [(size, min(50, (size+1)//2)) for size in cat_sizes]\n",
    "embedding_sizes"
   ]
  },
  {
   "cell_type": "code",
   "execution_count": 16,
   "id": "9f3caddc",
   "metadata": {},
   "outputs": [],
   "source": [
    "#stacking numerical data\n",
    "numerical_data = np.stack([data[col].values for col in numerical_cols], axis=1)\n",
    "numerical_data = torch.tensor(numerical_data, dtype = torch.float)"
   ]
  },
  {
   "cell_type": "code",
   "execution_count": 17,
   "id": "c26f598f",
   "metadata": {},
   "outputs": [],
   "source": [
    "#create label\n",
    "y = torch.tensor(data[y_col].values, dtype = torch.float).reshape(-1,1)"
   ]
  },
  {
   "cell_type": "code",
   "execution_count": null,
   "id": "deb93188",
   "metadata": {},
   "outputs": [],
   "source": []
  },
  {
   "cell_type": "markdown",
   "id": "01780278",
   "metadata": {},
   "source": [
    "# Modeling"
   ]
  },
  {
   "cell_type": "code",
   "execution_count": 18,
   "id": "023d9f8c",
   "metadata": {},
   "outputs": [],
   "source": [
    "class FarePredictionModel(nn.Module) :\n",
    "    \n",
    "    def __init__(self, embedding_size, num_of_numeric_feats, output_size, layers, p =0.5) :\n",
    "        \n",
    "        super().__init__()\n",
    "        \n",
    "        #creating embedding module\n",
    "        self.embeds = nn.ModuleList([nn.Embedding(ni, nf) for ni,nf in embedding_size])\n",
    "        self.embeds_dropout = nn.Dropout(p)\n",
    "        \n",
    "        #batch normalization for numeric features\n",
    "        self.batch_norm = nn.BatchNorm1d(num_of_numeric_feats)\n",
    "        \n",
    "        #define input layer\n",
    "        num_of_embed_layer = sum([nf for ni,nf in embedding_size])\n",
    "        input_size = num_of_embed_layer + num_of_numeric_feats\n",
    "        \n",
    "        #defining layers\n",
    "        layer_list = []\n",
    "        \n",
    "        for i in layers :\n",
    "            layer_list.append(nn.Linear(in_features= input_size, out_features= i))\n",
    "            layer_list.append(nn.ReLU(inplace=True))\n",
    "            layer_list.append(nn.BatchNorm1d(i))\n",
    "            layer_list.append(nn.Dropout(p))\n",
    "            input_size = i\n",
    "            \n",
    "        #appened outer layer\n",
    "        layer_list.append(nn.Linear(layers[-1], output_size))\n",
    "        \n",
    "        #compile all the layers\n",
    "        self.layers = nn.Sequential(*layer_list)\n",
    "        \n",
    "        \n",
    "    def forward(self, X_Categorical, X_Numerical) :\n",
    "        \n",
    "        #embedding for categorical data\n",
    "        embeddings_data = []\n",
    "        for i,e in enumerate(self.embeds) :\n",
    "            embeddings_data.append(e(X_Categorical[: ,i]))\n",
    "        \n",
    "            \n",
    "        X = torch.cat(embeddings_data, 1)\n",
    "        X = self.embeds_dropout(X)\n",
    "        \n",
    "        X_Numerical = self.batch_norm(X_Numerical)\n",
    "        \n",
    "        X = torch.cat([X, X_Numerical], axis=1)\n",
    "        X = self.layers(X)\n",
    "        \n",
    "        return X\n",
    "        \n"
   ]
  },
  {
   "cell_type": "code",
   "execution_count": 27,
   "id": "c4a76541",
   "metadata": {},
   "outputs": [
    {
     "data": {
      "text/plain": [
       "FarePredictionModel(\n",
       "  (embeds): ModuleList(\n",
       "    (0): Embedding(24, 12)\n",
       "    (1): Embedding(2, 1)\n",
       "    (2): Embedding(7, 4)\n",
       "    (3): Embedding(30, 15)\n",
       "    (4): Embedding(30, 15)\n",
       "  )\n",
       "  (embeds_dropout): Dropout(p=0.4, inplace=False)\n",
       "  (batch_norm): BatchNorm1d(4, eps=1e-05, momentum=0.1, affine=True, track_running_stats=True)\n",
       "  (layers): Sequential(\n",
       "    (0): Linear(in_features=51, out_features=200, bias=True)\n",
       "    (1): ReLU(inplace=True)\n",
       "    (2): BatchNorm1d(200, eps=1e-05, momentum=0.1, affine=True, track_running_stats=True)\n",
       "    (3): Dropout(p=0.4, inplace=False)\n",
       "    (4): Linear(in_features=200, out_features=100, bias=True)\n",
       "    (5): ReLU(inplace=True)\n",
       "    (6): BatchNorm1d(100, eps=1e-05, momentum=0.1, affine=True, track_running_stats=True)\n",
       "    (7): Dropout(p=0.4, inplace=False)\n",
       "    (8): Linear(in_features=100, out_features=1, bias=True)\n",
       "  )\n",
       ")"
      ]
     },
     "execution_count": 27,
     "metadata": {},
     "output_type": "execute_result"
    }
   ],
   "source": [
    "torch.manual_seed(42)\n",
    "model = FarePredictionModel(embedding_sizes, numerical_data.shape[1], 1, [200,100], p=0.4)\n",
    "model"
   ]
  },
  {
   "cell_type": "code",
   "execution_count": 23,
   "id": "d6d9387f",
   "metadata": {},
   "outputs": [],
   "source": [
    "criterion = nn.MSELoss()  # loss function\n",
    "optimizer = torch.optim.Adam(model.parameters(), lr=0.001) #optimizer"
   ]
  },
  {
   "cell_type": "code",
   "execution_count": 24,
   "id": "0b8dec25",
   "metadata": {},
   "outputs": [],
   "source": [
    "#split into train & test\n",
    "batch_size = 60000\n",
    "test_size = int(batch_size * .2)\n",
    "\n",
    "cat_train = categorical_data[:batch_size-test_size]\n",
    "cat_test = categorical_data[batch_size-test_size:batch_size]\n",
    "con_train = numerical_data[:batch_size-test_size]\n",
    "con_test = numerical_data[batch_size-test_size:batch_size]\n",
    "y_train = y[:batch_size-test_size]\n",
    "y_test = y[batch_size-test_size:batch_size]"
   ]
  },
  {
   "cell_type": "code",
   "execution_count": 25,
   "id": "3165623b",
   "metadata": {},
   "outputs": [
    {
     "name": "stderr",
     "output_type": "stream",
     "text": [
      "C:\\Users\\91954\\Documents\\pytorch_env\\lib\\site-packages\\torch\\nn\\modules\\loss.py:528: UserWarning: Using a target size (torch.Size([48000, 1])) that is different to the input size (torch.Size([48000, 2])). This will likely lead to incorrect results due to broadcasting. Please ensure they have the same size.\n",
      "  return F.mse_loss(input, target, reduction=self.reduction)\n"
     ]
    },
    {
     "name": "stdout",
     "output_type": "stream",
     "text": [
      "epoch:   1  loss: 12.55597878\n"
     ]
    },
    {
     "ename": "KeyboardInterrupt",
     "evalue": "",
     "output_type": "error",
     "traceback": [
      "\u001b[1;31m---------------------------------------------------------------------------\u001b[0m",
      "\u001b[1;31mKeyboardInterrupt\u001b[0m                         Traceback (most recent call last)",
      "\u001b[1;32m<ipython-input-25-7b666279af57>\u001b[0m in \u001b[0;36m<module>\u001b[1;34m\u001b[0m\n\u001b[0;32m     17\u001b[0m \u001b[1;33m\u001b[0m\u001b[0m\n\u001b[0;32m     18\u001b[0m     \u001b[0moptimizer\u001b[0m\u001b[1;33m.\u001b[0m\u001b[0mzero_grad\u001b[0m\u001b[1;33m(\u001b[0m\u001b[1;33m)\u001b[0m\u001b[1;33m\u001b[0m\u001b[1;33m\u001b[0m\u001b[0m\n\u001b[1;32m---> 19\u001b[1;33m     \u001b[0mloss\u001b[0m\u001b[1;33m.\u001b[0m\u001b[0mbackward\u001b[0m\u001b[1;33m(\u001b[0m\u001b[1;33m)\u001b[0m\u001b[1;33m\u001b[0m\u001b[1;33m\u001b[0m\u001b[0m\n\u001b[0m\u001b[0;32m     20\u001b[0m     \u001b[0moptimizer\u001b[0m\u001b[1;33m.\u001b[0m\u001b[0mstep\u001b[0m\u001b[1;33m(\u001b[0m\u001b[1;33m)\u001b[0m\u001b[1;33m\u001b[0m\u001b[1;33m\u001b[0m\u001b[0m\n\u001b[0;32m     21\u001b[0m \u001b[1;33m\u001b[0m\u001b[0m\n",
      "\u001b[1;32m~\\Documents\\pytorch_env\\lib\\site-packages\\torch\\tensor.py\u001b[0m in \u001b[0;36mbackward\u001b[1;34m(self, gradient, retain_graph, create_graph, inputs)\u001b[0m\n\u001b[0;32m    243\u001b[0m                 \u001b[0mcreate_graph\u001b[0m\u001b[1;33m=\u001b[0m\u001b[0mcreate_graph\u001b[0m\u001b[1;33m,\u001b[0m\u001b[1;33m\u001b[0m\u001b[1;33m\u001b[0m\u001b[0m\n\u001b[0;32m    244\u001b[0m                 inputs=inputs)\n\u001b[1;32m--> 245\u001b[1;33m         \u001b[0mtorch\u001b[0m\u001b[1;33m.\u001b[0m\u001b[0mautograd\u001b[0m\u001b[1;33m.\u001b[0m\u001b[0mbackward\u001b[0m\u001b[1;33m(\u001b[0m\u001b[0mself\u001b[0m\u001b[1;33m,\u001b[0m \u001b[0mgradient\u001b[0m\u001b[1;33m,\u001b[0m \u001b[0mretain_graph\u001b[0m\u001b[1;33m,\u001b[0m \u001b[0mcreate_graph\u001b[0m\u001b[1;33m,\u001b[0m \u001b[0minputs\u001b[0m\u001b[1;33m=\u001b[0m\u001b[0minputs\u001b[0m\u001b[1;33m)\u001b[0m\u001b[1;33m\u001b[0m\u001b[1;33m\u001b[0m\u001b[0m\n\u001b[0m\u001b[0;32m    246\u001b[0m \u001b[1;33m\u001b[0m\u001b[0m\n\u001b[0;32m    247\u001b[0m     \u001b[1;32mdef\u001b[0m \u001b[0mregister_hook\u001b[0m\u001b[1;33m(\u001b[0m\u001b[0mself\u001b[0m\u001b[1;33m,\u001b[0m \u001b[0mhook\u001b[0m\u001b[1;33m)\u001b[0m\u001b[1;33m:\u001b[0m\u001b[1;33m\u001b[0m\u001b[1;33m\u001b[0m\u001b[0m\n",
      "\u001b[1;32m~\\Documents\\pytorch_env\\lib\\site-packages\\torch\\autograd\\__init__.py\u001b[0m in \u001b[0;36mbackward\u001b[1;34m(tensors, grad_tensors, retain_graph, create_graph, grad_variables, inputs)\u001b[0m\n\u001b[0;32m    143\u001b[0m         \u001b[0mretain_graph\u001b[0m \u001b[1;33m=\u001b[0m \u001b[0mcreate_graph\u001b[0m\u001b[1;33m\u001b[0m\u001b[1;33m\u001b[0m\u001b[0m\n\u001b[0;32m    144\u001b[0m \u001b[1;33m\u001b[0m\u001b[0m\n\u001b[1;32m--> 145\u001b[1;33m     Variable._execution_engine.run_backward(\n\u001b[0m\u001b[0;32m    146\u001b[0m         \u001b[0mtensors\u001b[0m\u001b[1;33m,\u001b[0m \u001b[0mgrad_tensors_\u001b[0m\u001b[1;33m,\u001b[0m \u001b[0mretain_graph\u001b[0m\u001b[1;33m,\u001b[0m \u001b[0mcreate_graph\u001b[0m\u001b[1;33m,\u001b[0m \u001b[0minputs\u001b[0m\u001b[1;33m,\u001b[0m\u001b[1;33m\u001b[0m\u001b[1;33m\u001b[0m\u001b[0m\n\u001b[0;32m    147\u001b[0m         allow_unreachable=True, accumulate_grad=True)  # allow_unreachable flag\n",
      "\u001b[1;31mKeyboardInterrupt\u001b[0m: "
     ]
    }
   ],
   "source": [
    "#train the model\n",
    "import time\n",
    "start_time = time.time()\n",
    "\n",
    "epochs = 300\n",
    "losses = []\n",
    "\n",
    "for i in range(epochs):\n",
    "    i+=1\n",
    "    y_pred = model(cat_train, con_train)\n",
    "    loss = torch.sqrt(criterion(y_pred, y_train)) # RMSE\n",
    "    losses.append(loss)\n",
    "    \n",
    "    # a neat trick to save screen space:\n",
    "    if i%25 == 1:\n",
    "        print(f'epoch: {i:3}  loss: {loss.item():10.8f}')\n",
    "\n",
    "    optimizer.zero_grad()\n",
    "    loss.backward()\n",
    "    optimizer.step()\n",
    "\n",
    "print(f'epoch: {i:3}  loss: {loss.item():10.8f}') # print the last line\n",
    "print(f'\\nDuration: {time.time() - start_time:.0f} seconds') # print the time elapsed"
   ]
  },
  {
   "cell_type": "code",
   "execution_count": 48,
   "id": "876642a5",
   "metadata": {},
   "outputs": [
    {
     "data": {
      "image/png": "[encoded data removed]",
      "text/plain": [
       "<Figure size 432x288 with 1 Axes>"
      ]
     },
     "metadata": {
      "needs_background": "light"
     },
     "output_type": "display_data"
    }
   ],
   "source": [
    "#plot the loss function\n",
    "plt.plot(range(epochs), [x.detach().numpy() for x in losses])\n",
    "plt.ylabel('RMSE Loss')\n",
    "plt.xlabel('epoch');"
   ]
  },
  {
   "cell_type": "code",
   "execution_count": 49,
   "id": "20a97935",
   "metadata": {},
   "outputs": [
    {
     "name": "stdout",
     "output_type": "stream",
     "text": [
      "RMSE: 4.77853060\n"
     ]
    }
   ],
   "source": [
    "# performance on test data\n",
    "with torch.no_grad():\n",
    "    y_val = model(cat_test, con_test)\n",
    "    loss = torch.sqrt(criterion(y_val, y_test))\n",
    "print(f'RMSE: {loss:.8f}')"
   ]
  },
  {
   "cell_type": "code",
   "execution_count": 50,
   "id": "59c33fec",
   "metadata": {},
   "outputs": [],
   "source": [
    "# save the pytorch model\n",
    "torch.save(model.state_dict(), 'TaxiFareRegrModel.pt')"
   ]
  },
  {
   "cell_type": "code",
   "execution_count": 51,
   "id": "145a213c",
   "metadata": {},
   "outputs": [],
   "source": [
    "#save the kmeans model\n",
    "import pickle\n",
    "pickle.dump(k_means, open('kMean_model.pkl', 'wb'))"
   ]
  },
  {
   "cell_type": "markdown",
   "id": "6d088f86",
   "metadata": {},
   "source": [
    "# Making a Prediction "
   ]
  },
  {
   "cell_type": "code",
   "execution_count": 54,
   "id": "1f0791a9",
   "metadata": {},
   "outputs": [],
   "source": [
    "#create new model\n",
    "torch.manual_seed(42)\n",
    "trained_model = FarePredictionModel(embedding_size= [(24, 12), (2, 1), (7, 4), (30, 15), (30, 15)],\n",
    "                                  num_of_numeric_feats= 4,\n",
    "                                  output_size= 1, layers= [200, 100, 50], p= 0.5 )"
   ]
  },
  {
   "cell_type": "code",
   "execution_count": 55,
   "id": "2d8ad7dd",
   "metadata": {},
   "outputs": [
    {
     "data": {
      "text/plain": [
       "TaxiDurationModel(\n",
       "  (embeds): ModuleList(\n",
       "    (0): Embedding(24, 12)\n",
       "    (1): Embedding(2, 1)\n",
       "    (2): Embedding(7, 4)\n",
       "    (3): Embedding(30, 15)\n",
       "    (4): Embedding(30, 15)\n",
       "  )\n",
       "  (embeds_dropout): Dropout(p=0.5, inplace=False)\n",
       "  (batch_norm): BatchNorm1d(4, eps=1e-05, momentum=0.1, affine=True, track_running_stats=True)\n",
       "  (layers): Sequential(\n",
       "    (0): Linear(in_features=51, out_features=200, bias=True)\n",
       "    (1): ReLU(inplace=True)\n",
       "    (2): BatchNorm1d(200, eps=1e-05, momentum=0.1, affine=True, track_running_stats=True)\n",
       "    (3): Dropout(p=0.5, inplace=False)\n",
       "    (4): Linear(in_features=200, out_features=100, bias=True)\n",
       "    (5): ReLU(inplace=True)\n",
       "    (6): BatchNorm1d(100, eps=1e-05, momentum=0.1, affine=True, track_running_stats=True)\n",
       "    (7): Dropout(p=0.5, inplace=False)\n",
       "    (8): Linear(in_features=100, out_features=50, bias=True)\n",
       "    (9): ReLU(inplace=True)\n",
       "    (10): BatchNorm1d(50, eps=1e-05, momentum=0.1, affine=True, track_running_stats=True)\n",
       "    (11): Dropout(p=0.5, inplace=False)\n",
       "    (12): Linear(in_features=50, out_features=1, bias=True)\n",
       "  )\n",
       ")"
      ]
     },
     "execution_count": 55,
     "metadata": {},
     "output_type": "execute_result"
    }
   ],
   "source": [
    "trained_model.load_state_dict(torch.load('TaxiFareRegrModel.pt'));\n",
    "trained_model.eval()"
   ]
  },
  {
   "cell_type": "code",
   "execution_count": 60,
   "id": "f2467eaf",
   "metadata": {},
   "outputs": [],
   "source": [
    "def test_data(mdl): # pass in the name of the new model\n",
    "    # INPUT NEW DATA\n",
    "    plat = float(input('What is the pickup latitude?  '))\n",
    "    plong = float(input('What is the pickup longitude? '))\n",
    "    dlat = float(input('What is the dropoff latitude?  '))\n",
    "    dlong = float(input('What is the dropoff longitude? '))\n",
    "    psngr = int(input('How many passengers? '))\n",
    "    dt = input('What is the pickup date and time?\\nFormat as YYYY-MM-DD HH:MM:SS     ')\n",
    "    \n",
    "    # PREPROCESS THE DATA\n",
    "    dfx_dict = {'pickup_latitude':plat,'pickup_longitude':plong,'dropoff_latitude':dlat,\n",
    "         'dropoff_longitude':dlong,'passenger_count':psngr,'EDTdate':dt}\n",
    "    dfx = pd.DataFrame(dfx_dict, index=[0])\n",
    "    \n",
    "    #haversine data\n",
    "    dfx['dist_haversine'] = haversine_distance(dfx['pickup_latitude'].values, \n",
    "                                             dfx['pickup_longitude'].values, dfx['dropoff_latitude'].values, \n",
    "                                             dfx['dropoff_longitude'].values)\n",
    "\n",
    "    #manhattan data\n",
    "    dfx['dist_dummy_manhattan'] = dummy_manhattan_distance(dfx['pickup_latitude'].values, \n",
    "                                                             dfx['pickup_longitude'].values, \n",
    "                                                             dfx['dropoff_latitude'].values, \n",
    "                                                             dfx['dropoff_longitude'].values)\n",
    "\n",
    "    #direction of travel\n",
    "    dfx['direction'] = bearing_array(dfx['pickup_latitude'].values, dfx['pickup_longitude'].values, \n",
    "                                       dfx['dropoff_latitude'].values, dfx['dropoff_longitude'].values)\n",
    "    \n",
    "    #time features\n",
    "    dfx['Daylight_datetime'] = pd.to_datetime(data['pickup_datetime'].str[:19]) - pd.Timedelta(hours=4) \n",
    "    dfx['Hour'] = dfx['Daylight_datetime'].dt.hour  #time of pickup\n",
    "    dfx['AMorPM'] = np.where(dfx['Hour']<12,'am','pm')\n",
    "    dfx['Weekday'] = dfx['Daylight_datetime'].dt.strftime(\"%a\")\n",
    "    \n",
    "    #pickup & dropoff clusters\n",
    "    dfx['pickup_cluster'] = k_means.predict(dfx[['pickup_latitude', 'pickup_longitude']])\n",
    "    dfx['dropoff_cluster'] = k_means.predict(dfx[['dropoff_latitude', 'dropoff_longitude']])\n",
    "    \n",
    "    \n",
    "    # CREATE CAT AND CONT TENSORS\n",
    "    categorical_cols = ['Hour', 'AMorPM', 'Weekday', 'pickup_cluster', 'dropoff_cluster']\n",
    "    numerical_cols = ['passenger_count', 'dist_haversine', 'dist_dummy_manhattan', 'direction']\n",
    "    \n",
    "    #setting categorical cols\n",
    "    for col in categorical_cols :\n",
    "        dfx[col] = dfx[col].astype('category')\n",
    "\n",
    "    #stacking categorical data\n",
    "    xcats = np.stack([dfx[col].cat.codes.values for col in categorical_cols], axis=1)\n",
    "    xcats = torch.tensor(xcats, dtype = torch.int64)\n",
    "\n",
    "    xconts = np.stack([dfx[col].values for col in numerical_cols], 1)\n",
    "    xconts = torch.tensor(xconts, dtype=torch.float)\n",
    "    \n",
    "    # PASS NEW DATA THROUGH THE MODEL WITHOUT PERFORMING A BACKPROP\n",
    "    with torch.no_grad():\n",
    "        z = trained_model(xcats, xconts)\n",
    "    print(f'\\nThe predicted fare amount is ${z.item():.2f}')"
   ]
  },
  {
   "cell_type": "code",
   "execution_count": 61,
   "id": "7032a26c",
   "metadata": {},
   "outputs": [
    {
     "name": "stdout",
     "output_type": "stream",
     "text": [
      "What is the pickup latitude?  40.5\n",
      "What is the pickup longitude? -73.5\n",
      "What is the dropoff latitude?  40.52\n",
      "What is the dropoff longitude? -73.92\n",
      "How many passengers? 2\n",
      "What is the pickup date and time?\n",
      "Format as YYYY-MM-DD HH:MM:SS     2010-04-15 16:00:00\n",
      "\n",
      "The predicted fare amount is $60.28\n"
     ]
    }
   ],
   "source": [
    "#prediction\n",
    "z = test_data(trained_model)"
   ]
  },
  {
   "cell_type": "code",
   "execution_count": null,
   "id": "0e909abc",
   "metadata": {},
   "outputs": [],
   "source": []
  }
 ],
 "metadata": {
  "kernelspec": {
   "display_name": "Python 3",
   "language": "python",
   "name": "python3"
  },
  "language_info": {
   "codemirror_mode": {
    "name": "ipython",
    "version": 3
   },
   "file_extension": ".py",
   "mimetype": "text/x-python",
   "name": "python",
   "nbconvert_exporter": "python",
   "pygments_lexer": "ipython3",
   "version": "3.9.5"
  },
  "toc": {
   "base_numbering": 1,
   "nav_menu": {},
   "number_sections": true,
   "sideBar": true,
   "skip_h1_title": false,
   "title_cell": "Table of Contents",
   "title_sidebar": "Contents",
   "toc_cell": false,
   "toc_position": {},
   "toc_section_display": true,
   "toc_window_display": false
  }
 },
 "nbformat": 4,
 "nbformat_minor": 5
}
